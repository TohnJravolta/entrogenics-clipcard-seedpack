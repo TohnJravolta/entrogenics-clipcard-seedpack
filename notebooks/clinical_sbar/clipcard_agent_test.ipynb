{
 "cells": [
  {
   "cell_type": "markdown",
   "metadata": {},
   "source": "# ClipCard Agent Harness — Clinical / SBAR\n\n\n# ClipCard Notebook Plan (auto-generated 2025-10-13)\n\nThis notebook is a scaffold for the **ClipCard (Risk & Recheck)** seedpack.\n\n- **Base schema** (`schema/clipcard.schema.v1.json`) is required.\n- **Extended schema** (`schema/clipcard.schema.v1e.json`) is optional.\n- Works with CSVs under `data/clipmap/*.csv` and any `**/*.clipcard.json` in your repo.\n\n## Inputs\n- `schema/clipcard.schema.v1.json` (required)\n- `schema/clipcard.schema.v1e.json` (optional)\n- `data/clipmap/cards.csv` and `data/clipmap/events.csv` (optional; created by CI)\n- Any `**/*.clipcard.json` examples you add\n\n## Outputs\n- Console metrics and/or CSVs in `notebooks/_out/`\n- Plots (if matplotlib installed)\n- Notes you can copy into Field Reports\n\n> Optional installs (inside a notebook cell):\n>\n> ```\n> %pip install pandas jsonschema matplotlib\n> ```\n"
  },
  {
   "cell_type": "markdown",
   "metadata": {},
   "source": "\n## Rule-based agent harness (no LLMs)\n\n- Validates cards against **base** (required) and **extended** (optional) schemas\n- Checks guardrails: hazard specificity, steward present, measurable kill criteria\n- You can add domain-specific guardrails later\n"
  },
  {
   "cell_type": "code",
   "metadata": {},
   "execution_count": null,
   "outputs": [],
   "source": "\n# %pip install jsonschema\nimport os, glob, json\n\ntry:\n    from jsonschema import Draft7Validator\nexcept Exception as e:\n    Draft7Validator = None\n    print(\"jsonschema not available; schema checks will be skipped.\")\n\ndef load_json(p):\n    with open(p,\"r\",encoding=\"utf-8\") as f: return json.load(f)\n\nbase_schema_path = os.path.join(\"schema\",\"clipcard.schema.v1.json\")\next_schema_path  = os.path.join(\"schema\",\"clipcard.schema.v1e.json\")\n\nbase = load_json(base_schema_path) if os.path.exists(base_schema_path) else None\next  = load_json(ext_schema_path)  if os.path.exists(ext_schema_path)  else None\n\ncards = glob.glob(\"**/*.clipcard.json\", recursive=True)\nprint(f\"Found {len(cards)} ClipCard(s).\")\n\nfail, warn = 0, 0\nfor f in cards:\n    d = load_json(f)\n    if Draft7Validator and base:\n        v = Draft7Validator(base)\n        errs = sorted(v.iter_errors(d), key=lambda e: e.path)\n        if errs:\n            print(f\"[ERROR] {f}: \" + \"; \".join([e.message for e in errs])); fail += 1\n    if Draft7Validator and ext:\n        ve = Draft7Validator(ext)\n        errs = sorted(ve.iter_errors(d), key=lambda e: e.path)\n        if errs:\n            print(f\"[WARN]  {f} (v1e): \" + \"; \".join([e.message for e in errs])); warn += 1\n    # Guardrails\n    hazard_ok = bool(d.get(\"hazard\",\"\").strip())\n    steward_ok = bool((d.get(\"steward\") or {}).get(\"primary\"))\n    kc = d.get(\"kill_criteria\") or []\n    kc_ok = any(isinstance(x, dict) and x.get(\"condition\") and x.get(\"action\") for x in kc)\n    if not (hazard_ok and steward_ok and kc_ok):\n        print(f\"[WARN]  {f}: guardrails (hazard={hazard_ok}, steward={steward_ok}, measurable_kill={kc_ok})\")\n        warn += 1\n\nprint(f\"Done. base_fail={fail}, warn={warn}\")\n"
  }
 ],
 "metadata": {
  "kernelspec": {
   "name": "python3",
   "display_name": "Python 3"
  },
  "language_info": {
   "name": "python",
   "pygments_lexer": "ipython3"
  }
 },
 "nbformat": 4,
 "nbformat_minor": 5
}