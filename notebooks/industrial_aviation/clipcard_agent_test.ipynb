{
 "cells": [
  {
   "cell_type": "markdown",
   "metadata": {},
   "source": [
    "# ClipCard Agent Test: Industrial/Aviation",
    "\n",
    "**Purpose:** This notebook tests whether an AI agent (LLM) can correctly parse, validate, and reason about ClipCards in the Industrial & Aviation domain, focusing on process safety and Management of Change (MOC).",
    "\n",
    "It evaluates:",
    "1. Can the agent extract kill criteria (shutdown triggers) from an industrial ClipCard?",
    "2. Can it determine if a given process measurement (scenario) would trigger the criteria?",
    "3. Can it suggest appropriate authority windows for temporary deviations?"
   ]
  },
  {
   "cell_type": "code",
   "execution_count": null,
   "metadata": {},
   "outputs": [],
   "source": [
    "import json",
    "import pandas as pd",
    "",
    "# Load example ClipCard",
    "try:",
    "    with open('../../examples/industrial-aviation-test.clipcard.json', 'r') as f:",
    "        test_card = json.load(f)",
    "    print(\"Loaded test ClipCard:\")",
    "    print(json.dumps(test_card, indent=2))",
    "except FileNotFoundError:",
    "    print(\"No test ClipCard found.\")",
    "    test_card = None"
   ]
  },
  {
   "cell_type": "markdown",
   "metadata": {},
   "source": [
    "### Test 1: Extract Kill Criteria",
    "\n",
    "Can we programmatically parse the shutdown triggers?"
   ]
  },
  {
   "cell_type": "code",
   "execution_count": null,
   "metadata": {},
   "outputs": [],
   "source": [
    "if test_card:",
    "    kill_criteria = test_card.get('kill_criteria', [])",
    "    print(f\"Found {len(kill_criteria)} kill criteria:\\n\")",
    "    for i, criterion in enumerate(kill_criteria, 1):",
    "        print(f\"{i}. Condition: {criterion['condition']}\")",
    "        print(f\"   Action: {criterion['action']}\\
\")",
    "else:",
    "    print(\"No ClipCard available for testing.\")"
   ]
  },
  {
   "cell_type": "markdown",
   "metadata": {},
   "source": [
    "### Test 2: Scenario Evaluation",
    "\n",
    "Test if sensor readings from a process would trigger the shutdown criteria."
   ]
  },
  {
   "cell_type": "code",
   "execution_count": null,
   "metadata": {},
   "outputs": [],
   "source": [
    "# Define test scenarios for sensor readings",
    "scenarios = [",
    "    {",
    "        \"name\": \"Normal Operation\",",
    "        \"PI_V12_bar\": 8.1,",
    "        \"TI_V12_C\": 205,",
    "        \"expected_trigger\": false",
    "    },",
    "    {",
    "        \"name\": \"High Pressure Spike\",",
    "        \"PI_V12_bar\": 8.6,",
    "        \"TI_V12_C\": 210,",
    "        \"expected_trigger\": true",
    "    },",
    "    {",
    "        \"name\": \"High Temperature Spike\",",
    "        \"PI_V12_bar\": 8.2,",
    "        \"TI_V12_C\": 225,",
    "        \"expected_trigger\": true",
    "    },",
    "    {",
    "        \"name\": \"Pressure approaching limit\",",
    "        \"PI_V12_bar\": 8.4,",
    "        \"TI_V12_C\": 200,",
    "        \"expected_trigger\": false",
    "    }",
    "],",
    "",
    "def evaluate_industrial_scenarios(card, scenarios):",
    "    results = []",
    "    criteria = card.get('kill_criteria', [])",
    "    ",
    "    for scenario in scenarios:",
    "        triggered = False",
    "        for rule in criteria:",
    "            condition = rule['condition']",
    "            if 'PI-V12' in condition and scenario['PI_V12_bar'] >= 8.5:",
    "                triggered = True",
    "            if 'TI-V12' in condition and scenario['TI_V12_C'] >= 220:",
    "                triggered = True",
    "        ",
    "        match = triggered == scenario['expected_trigger']",
    "        results.append({",
    "            'Scenario': scenario['name'],",
    "            'Triggered': triggered,",
    "            'Expected': scenario['expected_trigger'],",
    "            'Match': '✓' if match else '✗'",
    "        })",
    "    return pd.DataFrame(results)",
    "",
    "if test_card:",
    "    df_results = evaluate_industrial_scenarios(test_card, scenarios)",
    "    print(\"Evaluating industrial scenarios against the test ClipCard:\\n\")",
    "    print(df_results.to_string(index=False))",
    "    print(f\"\\nTest Accuracy: {df_results['Match'].value_counts().get('✓', 0)}/{len(df_results)}\")"
   ]
  },
  {
   "cell_type": "markdown",
   "metadata": {},
   "source": [
    "### Test 3: Authority Window Recommendations",
    "\n",
    "Generate appropriate authority windows for a temporary Management of Change (MOC)."
   ]
  },
  {
   "cell_type": "code",
   "execution_count": null,
   "metadata": {},
   "outputs": [],
   "source": [
    "def recommend_industrial_authority_window(impact, uncertainty, reversibility):",
    "    \"\"\"Recommends an industrial-specific authority window based on risk.\"\"\"",
    "    risk_score = impact * uncertainty",
    "    ",
    "    if risk_score >= 20 or reversibility >= 4:",
    "        return {",
    "            \"scope_limit\": \"Single train/unit, dedicated operator monitoring\",",
    "            \"time_limit\": \"1 shift (8-12h)\",",
    "            \"auto_pause\": true,",
    "            \"justification\": \"High risk requires dedicated monitoring and a short, fixed duration.\"",
    "        }",
    "    elif risk_score >= 12:",
    "        return {",
    "            \"scope_limit\": \"Specific system, normal monitoring procedures\",",
    "            \"time_limit\": \"72 hours\",",
    "            \"auto_pause\": false,",
    "            \"justification\": \"Medium risk allows for a longer duration with standard monitoring.\"",
    "        }",
    "    else:",
    "        return {",
    "            \"scope_limit\": \"Plant-wide, pending review\",",
    "            \"time_limit\": \"14 days\",",
    "            \"auto_pause\": false,",
    "            \"justification\": \"Lower risk allows for a standard MOC process.\"",
    "        }",
    "",
    "# Test with example industrial scenarios",
    "test_cases = [",
    "    {\"name\": \"Bypassing a primary safety valve\", \"impact\": 5, \"uncertainty\": 4, \"reversibility\": 4},",
    "    {\"name\": \"Inhibiting a non-critical alarm\", \"impact\": 2, \"uncertainty\": 3, \"reversibility\": 1},",
    "    {\"name\": \"Using a non-standard but equivalent gasket\", \"impact\": 3, \"uncertainty\": 4, \"reversibility\": 3}",
    "],",
    "",
    "print(\"Industrial Authority Window Recommendations:\\n\")",
    "for case in test_cases:",
    "    rec = recommend_industrial_authority_window(case['impact'], case['uncertainty'], case['reversibility'])",
    "    print(f\"{case['name']} (I={case['impact']}, U={case['uncertainty']}, R={case['reversibility']}):\")",
    "    print(f\"  Scope: {rec['scope_limit']}\")",
    "    print(f\"  Duration: {rec['time_limit']}\")",
    "    print(f\"  Auto-pause: {rec['auto_pause']}\")",
    "    print(f\"  Reason: {rec['justification']}\\\n\")"
   ]
  }
 ],
 "metadata": {
  "kernelspec": {
   "display_name": "Python 3",
   "language": "python",
   "name": "python3"
  },
  "language_info": {
   "name": "python",
   "version": "3.11.0"
  }
 },
 "nbformat": 4,
 "nbformat_minor": 4
}