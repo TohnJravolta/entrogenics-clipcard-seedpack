{
 "cells": [
  {
   "cell_type": "markdown",
   "metadata": {},
   "source": "# ClipCard Field Evaluation — Policy / Trust & Safety\n\n\n# ClipCard Notebook Plan (auto-generated 2025-10-13)\n\nThis notebook is a scaffold for the **ClipCard (Risk & Recheck)** seedpack.\n\n- **Base schema** (`schema/clipcard.schema.v1.json`) is required.\n- **Extended schema** (`schema/clipcard.schema.v1e.json`) is optional.\n- Works with CSVs under `data/clipmap/*.csv` and any `**/*.clipcard.json` in your repo.\n\n## Inputs\n- `schema/clipcard.schema.v1.json` (required)\n- `schema/clipcard.schema.v1e.json` (optional)\n- `data/clipmap/cards.csv` and `data/clipmap/events.csv` (optional; created by CI)\n- Any `**/*.clipcard.json` examples you add\n\n## Outputs\n- Console metrics and/or CSVs in `notebooks/_out/`\n- Plots (if matplotlib installed)\n- Notes you can copy into Field Reports\n\n> Optional installs (inside a notebook cell):\n>\n> ```\n> %pip install pandas jsonschema matplotlib\n> ```\n"
  },
  {
   "cell_type": "markdown",
   "metadata": {},
   "source": "\n## Field evaluation metrics\n\nPrimary:\n- False approvals (costly reversions/incidents post-approval)\n- On-time rechecks (target ≥ 80%)\n\nSecondary:\n- Near-misses\n- Escalation rate (target 10–25%)\n- Median fill time (target ≤ 6 min)\n- Low-risk cycle time (should remain stable)\n\n> Keep PHI/PII out of repos: use redacted snapshots or hashes in evidence.\n"
  },
  {
   "cell_type": "code",
   "metadata": {},
   "execution_count": null,
   "outputs": [],
   "source": "\n# %pip install pandas\nimport os\nfrom statistics import median\n\ncards_path = os.path.join(\"data\",\"clipmap\",\"cards.csv\")\nif not os.path.exists(cards_path):\n    print(\"No cards.csv yet (CI writes it). Add one or push ClipCards to trigger CI.\")\nelse:\n    import pandas as pd\n    cards = pd.read_csv(cards_path)\n    print(\"cards.csv head:\")\n    display(cards.head())\n\n# TODO: Load your anonymized field logs here and compute:\n# - on_time_rechecks\n# - near_miss_rate\n# - escalation_rate\n# - median_fill_minutes\n# Example skeleton:\n#\n# df = pd.read_csv(\"data/field/my_logs.csv\")\n# on_time = (pd.to_datetime(df['recheck_done']) <= pd.to_datetime(df['recheck_due'])).mean()\n# esc_rate = df['escalated'].mean()\n# med_fill = df['fill_minutes'].median()\n# print(dict(on_time_rechecks=round(on_time*100,1), escalation_rate=round(esc_rate*100,1), median_fill=med_fill))\n"
  }
 ],
 "metadata": {
  "kernelspec": {
   "name": "python3",
   "display_name": "Python 3"
  },
  "language_info": {
   "name": "python",
   "pygments_lexer": "ipython3"
  }
 },
 "nbformat": 4,
 "nbformat_minor": 5
}