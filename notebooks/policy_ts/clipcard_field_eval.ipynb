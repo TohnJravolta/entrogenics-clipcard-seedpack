{
 "cells": [
  {
   "cell_type": "markdown",
   "metadata": {},
   "source": [
    "# ClipCard Field Evaluation: Policy/Trust & Safety",
    "\n",
    "**Purpose:** This notebook analyzes historical data from the `clipmap` CSVs to evaluate the real-world performance of the ClipCard system over time for the **Policy/Trust & Safety** silo.",
    "\n",
    "It calculates and visualizes key metrics as defined in the `dfm-policy-ts.md` framework document, such as:",
    "- Wrongful Action Rate",
    "- Appeal Rate",
    "- Review On-Time %"
   ]
  },
  {
   "cell_type": "code",
   "execution_count": null,
   "metadata": {},
   "outputs": [],
   "source": [
    "import pandas as pd",
    "import numpy as np",
    "import matplotlib.pyplot as plt",
    "import matplotlib.dates as mdates",
    "",
    "# Load the aggregated ClipCard data",
    "try:",
    "    cards_df = pd.read_csv('../../data/clipmap/cards.csv')",
    "    events_df = pd.read_csv('../../data/clipmap/events.csv')",
    "    # Filter for the correct domain and merge",
    "    policy_cards = cards_df[cards_df['domain'] == 'dfm-policy-ts'].copy()",
    "    merged_df = pd.merge(policy_cards, events_df, left_on='id', right_on='card_id')",
    "    merged_df['time'] = pd.to_datetime(merged_df['time'])",
    "except FileNotFoundError as e:",
    "    print(f'ERROR: {e.filename} not found. Please ensure the data exists.')",
    "    merged_df = pd.DataFrame()"
   ]
  },
  {
   "cell_type": "markdown",
   "metadata": {},
   "source": [
    "### Metric 1: Wrongful Action Rate",
    "\n",
    "**Definition:** Verified wrongful enforcement actions per 10,000 decisions.",
    "**Goal:** Decrease vs. baseline.",
    "\n",
    "**Note:** This metric requires data from content moderation review systems, which is not in the current `events.csv`. We will create a placeholder visualization with synthetic data."
   ]
  },
  {
   "cell_type": "code",
   "execution_count": null,
   "metadata": {},
   "outputs": [],
   "source": [
    "if not merged_df.empty:",
    "    # Group by week for trend analysis",
    "    events_by_week = merged_df.set_index('time').resample('W')",
    "    ",
    "    # --- Placeholder Data Generation --- ",
    "    placeholder_df = events_by_week.size().to_frame(name='total_actions_proxy')",
    "    # Assume a decreasing trend in wrongful actions as policies and models improve",
    "    wrongful_rate_start = 1.2",
    "    placeholder_df['wrongful_actions'] = (np.random.rand(len(placeholder_df)) * 0.5 + wrongful_rate_start - (np.arange(len(placeholder_df)) * 0.1)) * placeholder_df['total_actions_proxy']",
    "    placeholder_df['wrongful_actions'] = placeholder_df['wrongful_actions'].astype(int).clip(lower=0)",
    "    placeholder_df['wrongful_action_rate'] = (placeholder_df['wrongful_actions'] / (placeholder_df['total_actions_proxy'] * 10000)).fillna(0)",
    "    # --- End Placeholder --- ",
    "",
    "    # Plotting",
    "    fig, ax = plt.subplots(figsize=(12, 6))",
    "    ax.plot(placeholder_df.index, placeholder_df['wrongful_action_rate'], marker='o', linestyle='-', label='Wrongful Action Rate (per 10k)')",
    "",
    "    ax.set_title('Wrongful Action Rate Over Time (Synthetic Data)')",
    "    ax.set_ylabel('Rate (per 10k actions)')",
    "    ax.set_xlabel('Week')",
    "    ax.grid(True, which='both', linestyle='--', linewidth=0.5)",
    "    ax.xaxis.set_major_formatter(mdates.DateFormatter('%Y-%m-%d'))",
    "    plt.xticks(rotation=45)",
    "    ax.legend()",
    "    plt.tight_layout()",
    "    plt.show()",
    "else:",
    "    print('Data is empty. Cannot calculate Wrongful Action Rate.')"
   ]
  },
  {
   "cell_type": "markdown",
   "metadata": {},
   "source": [
    "### Metric 2: Appeal Rate",
    "\n",
    "**Definition:** Appeals per 1,000 enforcement actions.",
    "**Goal:** Decrease vs. baseline (or stable with improved precision).",
    "\n",
    "**Note:** This also requires data from appeals systems. We will generate synthetic data for this."
   ]
  },
  {
   "cell_type": "code",
   "execution_count": null,
   "metadata": {},
   "outputs": [],
   "source": [
    "if not merged_df.empty:",
    "    events_by_week = merged_df.set_index('time').resample('W')",
    "    ",
    "    # --- Placeholder Data Generation --- ",
    "    placeholder_df = events_by_week.size().to_frame(name='total_actions_proxy')",
    "    # Assume a slightly decreasing trend in appeals",
    "    appeal_rate_start = 50 # per 1000",
    "    placeholder_df['appeals'] = (appeal_rate_start - (np.arange(len(placeholder_df)) * 2) + np.random.randint(-5, 5, size=len(placeholder_df))) * (placeholder_df['total_actions_proxy'])",
    "    placeholder_df['appeals'] = placeholder_df['appeals'].clip(lower=0)",
    "    placeholder_df['appeal_rate'] = (placeholder_df['appeals'] / (placeholder_df['total_actions_proxy'] * 1000)).fillna(0)",
    "    # --- End Placeholder --- ",
    "    ",
    "    # Plotting",
    "    fig, ax = plt.subplots(figsize=(12, 6))",
    "    ax.plot(placeholder_df.index, placeholder_df['appeal_rate'], marker='s', linestyle='--', color='purple', label='Appeal Rate (per 1k actions)')",
    "",
    "    ax.set_title('Appeal Rate Over Time (Synthetic Data)')",
    "    ax.set_ylabel('Rate (per 1k actions)')",
    "    ax.set_xlabel('Week')",
    "    ax.grid(True, which='both', linestyle='--', linewidth=0.5)",
    "    ax.xaxis.set_major_formatter(mdates.DateFormatter('%Y-%m-%d'))",
    "    plt.xticks(rotation=45)",
    "    ax.legend()",
    "    plt.tight_layout()",
    "    plt.show()",
    "else:",
    "    print('Data is empty. Cannot calculate Appeal Rate.')"
   ]
  }
 ],
 "metadata": {
  "kernelspec": {
   "display_name": "Python 3",
   "language": "python",
   "name": "python3"
  },
  "language_info": {
   "name": "python",
   "version": "3.11.0"
  }
 },
 "nbformat": 4,
 "nbformat_minor": 4
}