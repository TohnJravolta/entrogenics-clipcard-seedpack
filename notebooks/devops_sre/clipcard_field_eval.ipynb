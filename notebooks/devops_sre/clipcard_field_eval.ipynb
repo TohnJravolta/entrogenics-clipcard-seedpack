{
  "cells": [
    {
      "cell_type": "markdown",
      "id": "cell-0",
      "metadata": {},
      "source": [
        "# ClipCard Field Evaluation: DevOps/SRE\n",
        "\n",
        "**Purpose:** This notebook analyzes historical data from the `clipmap` CSVs to evaluate the real-world performance of the ClipCard system over time for the **DevOps/SRE** silo.\n",
        "\n",
        "It calculates and visualizes key metrics as defined in the `dfm-devops-sre.md` framework document, such as:\n",
        "- MTTR\n",
        "- Change Failure Rate\n",
        "- Deployment Frequency"
      ]
    },
    {
      "cell_type": "code",
      "execution_count": null,
      "id": "cell-1",
      "metadata": {},
      "outputs": [],
      "source": [
        "import pandas as pd\n",
        "import numpy as np\n",
        "import matplotlib.pyplot as plt\n",
        "import matplotlib.dates as mdates\n",
        "\n",
        "# Load the aggregated ClipCard data\n",
        "try:\n",
        "    cards_df = pd.read_csv('../../data/clipmap/cards.csv')\n",
        "    events_df = pd.read_csv('../../data/clipmap/events.csv')\n",
        "    # Filter for the correct domain and merge\n",
        "    devops_cards = cards_df[cards_df['domain'] == 'dfm-devops-sre'].copy()\n",
        "    merged_df = pd.merge(devops_cards, events_df, left_on='id', right_on='card_id')\n",
        "    merged_df['time'] = pd.to_datetime(merged_df['time'])\n",
        "except FileNotFoundError as e:\n",
        "    print(f'ERROR: {e.filename} not found. Please ensure the data exists.')\n",
        "    merged_df = pd.DataFrame()"
      ]
    },
    {
      "cell_type": "markdown",
      "id": "cell-2",
      "metadata": {},
      "source": [
        "### Metric 1: Change Failure Rate\n",
        "\n",
        "**Note:** The sample data does not contain enough detail to calculate a true `change_failure_rate`. We will use a placeholder calculation based on the number of incidents prevented vs. successful changes, grouped by week."
      ]
    },
    {
      "cell_type": "code",
      "execution_count": null,
      "id": "cell-3",
      "metadata": {},
      "outputs": [],
      "source": [
        "if not merged_df.empty:\n",
        "    events_by_week = merged_df.set_index('time')\n",
        "    \n",
        "    # Placeholder for failures - we'll use 'Incident Prevented' as a proxy\n",
        "    weekly_failures = events_by_week[events_by_week['outcome'] == 'Incident Prevented'].resample('W').size()\n",
        "    weekly_total = events_by_week.resample('W').size()\n",
        "    \n",
        "    cfr_df = pd.DataFrame({'failures': weekly_failures, 'total': weekly_total}).fillna(0)\n",
        "    # Calculate rate per 100 deployments as per the DFM\n",
        "    cfr_df['cfr'] = (cfr_df['failures'] / cfr_df['total'] * 100).fillna(0)\n",
        "\n",
        "    # Plotting\n",
        "    fig, ax = plt.subplots(figsize=(12, 6))\n",
        "    ax.plot(cfr_df.index, cfr_df['cfr'], marker='o', linestyle='-', label='Change Failure Rate (%)')\n",
        "\n",
        "    ax.set_title('Change Failure Rate Over Time (Placeholder)')\n",
        "    ax.set_ylabel('Rate per 100 Deployments')\n",
        "    ax.set_xlabel('Week')\n",
        "    ax.grid(True, which='both', linestyle='--', linewidth=0.5)\n",
        "    ax.xaxis.set_major_formatter(mdates.DateFormatter('%Y-%m-%d'))\n",
        "    plt.xticks(rotation=45)\n",
        "    ax.legend()\n",
        "    plt.tight_layout()\n",
        "    plt.show()\n",
        "else:\n",
        "    print('Data is empty. Cannot calculate Change Failure Rate.')"
      ]
    }
  ],
  "metadata": {
    "kernelspec": {
      "display_name": "Python 3",
      "language": "python",
      "name": "python3"
    },
    "language_info": {
      "name": "python",
      "version": "3.11.0"
    }
  },
  "nbformat": 4,
  "nbformat_minor": 5
}