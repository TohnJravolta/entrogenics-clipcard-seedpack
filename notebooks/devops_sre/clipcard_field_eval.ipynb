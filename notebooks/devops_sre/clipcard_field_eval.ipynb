{
 "cells": [
  {
   "cell_type": "markdown",
   "metadata": {},
   "source": [
    "# ClipCard Field Evaluation: DevOps/SRE\n",
    "\n",
    "**Purpose:** This notebook analyzes historical data from the `clipmap` CSVs to evaluate the real-world performance of the ClipCard system over time for the DevOps/SRE silo.\n",
    "\n",
    "It calculates and visualizes key metrics as defined in the `dfm-devops-sre.md` framework document, such as:\n",
    "- Change Failure Rate (CFR)\n",
    "- Mean Time to Recovery (MTTR)\n",
    "- Recheck On-Time %"
   ]
  },
  {
   "cell_type": "code",
   "execution_count": null,
   "metadata": {},
   "outputs": [],
   "source": [
    "import pandas as pd\n",
    "import matplotlib.pyplot as plt\n",
    "import matplotlib.dates as mdates\n",
    "\n",
    "# Load the aggregated ClipCard data\n",
    "try:\n",
    "    events_df = pd.read_csv('../../data/clipmap/events.csv')\n",
    "    # Convert time column to datetime objects\n",
    "    events_df['time'] = pd.to_datetime(events_df['time'])\n",
    "except FileNotFoundError:\n",
    "    print('ERROR: events.csv not found. Please ensure the data exists.')\n",
    "    events_df = pd.DataFrame() # Empty dataframe to prevent further errors"
   ]
  },
  {
   "cell_type": "markdown",
   "metadata": {},
   "source": [
    "### Metric 1: Change Failure Rate (CFR)\n",
    "\n",
    "The DFM defines this as `Failed changes / total changes`. We will interpret a \"failed change\" as one where a kill criterion was triggered (outcome = `Incident Prevented`), as this indicates a failure would have occurred without the ClipCard. A successful change has an outcome of `Success`. "
   ]
  },
  {
   "cell_type": "code",
   "execution_count": null,
   "metadata": {},
   "outputs": [],
   "source": [
    "if not events_df.empty:\n",
    "    # Set the time as the index for resampling\n",
    "    events_by_week = events_df.set_index('time')\n",
    "\n",
    "    # Calculate weekly counts of failed and successful changes\n",
    "    weekly_failures = events_by_week[events_by_week['outcome'] == 'Incident Prevented'].resample('W').size()\n",
    "    weekly_successes = events_by_week[events_by_week['outcome'] == 'Success'].resample('W').size()\n",
    "    \n",
    "    # Combine the series and calculate CFR\n",
    "    cfr_df = pd.DataFrame({'failures': weekly_failures, 'successes': weekly_successes}).fillna(0)\n",
    "    cfr_df['total_changes'] = cfr_df['failures'] +cfr_df['successes']\n",
    "    cfr_df['cfr'] = (cfr_df['failures'] / cfr_df['total_changes'] * 100).fillna(0)\n",
    "\n",
    "    # Plotting\n",
    "    fig, ax = plt.subplots(figsize=(12, 6))\n",
    "    ax.plot(cfr_df.index, cfr_df['cfr'], marker='o', linestyle='-', label='Change Failure Rate (%)')\n",
    "\n",
    "    ax.set_title('Change Failure Rate (CFR) Over Time')\n",
    "    ax.set_ylabel('Failure Rate (%)')\n",
    "    ax.set_xlabel('Week')\n",
    "    ax.grid(True, which=\'both\', linestyle='--\', linewidth=0.5)\n",
    "    ax.xaxis.set_major_formatter(mdates.DateFormatter('%Y-%m-%d'))\n",
    "    plt.xticks(rotation=45)\n",
    "    ax.legend()\n",
    "    plt.tight_layout()\n",
    "    plt.show()\n",
    "else:\n",
    "    print('Event data is empty. Cannot calculate CFR.')"
   ]
  },
  {
   "cell_type": "markdown",
   "metadata": {},
   "source": [
    "### Metric 2: Mean Time to Recovery (MTTR)\n",
    "\n",
    "**Note:** Calculating MTTR requires knowing the time an incident started and when it was resolved. The current `events.csv` format does not capture this duration. \n",
    "\n",
    "For this notebook, we will create a placeholder visualization with randomly generated data to demonstrate how it would be analyzed."
   ]
  },
  {
   "cell_type": "code",
   "execution_count": null,
   "metadata": {},
   "outputs": [],
   "source": [
    "if not cfr_df.empty:\n",
    "    # Generate placeholder MTTR data (in minutes)\n",
    "    cfr_df['mttr_minutes'] = np.random.uniform(5, 45, size=len(cfr_df))\n",
    "    # Set MTTR to 0 where there were no failures\n",
    "    cfr_df.loc[cfr_df['failures'] == 0, 'mttr_minutes'] = 0\n",
    "\n",
    "    # Plotting\n",
    "    fig, ax = plt.subplots(figsize=(12, 6))\n",
    "    ax.plot(cfr_df.index, cfr_df['mttr_minutes'], marker='s', linestyle='--', color='orange', label='MTTR (minutes)')\n",
    "\n",
    "    ax.set_title('Mean Time To Recovery (MTTR) Over Time (Placeholder Data)')\n",
    "    ax.set_ylabel('Time (minutes)')\n",
    "    ax.set_xlabel('Week')\n",
    "    ax.grid(True, which=\'both\', linestyle='--\', linewidth=0.5)\n",
    "    ax.xaxis.set_major_formatter(mdates.DateFormatter('%Y-%m-%d'))\n",
    "    plt.xticks(rotation=45)\n",
    "    ax.legend()\n",
    "    plt.tight_layout()\n",
    "    plt.show()\n",
    "else:\n",
    "    print('Event data is empty. Cannot visualize MTTR.')"
   ]
  }
 ],
 "metadata": {
  "kernelspec": {
   "display_name": "Python 3",
   "language": "python",
   "name": "python3"
  },
  "language_info": {
   "name": "python",
   "version": "3.11.0"
  }
 },
 "nbformat": 4,
 "nbformat_minor": 4
}
