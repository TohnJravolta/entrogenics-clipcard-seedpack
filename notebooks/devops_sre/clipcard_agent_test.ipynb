{
 "cells": [
  {
   "cell_type": "markdown",
   "metadata": {},
   "source": ["# ClipCard Agent Test & Compliance Report\n", "\n", "**Purpose:** This notebook tests the logical integrity of ClipCards and checks for compliance against best practices for the **DevOps/SRE** silo.\n", "\n", "**Tests Performed:**\n", "1.  **Kill Criteria is Measurable:** Checks if `kill_criteria.condition` contains a measurable operator (`>`,`<`, `==`, `>=` , `<=`). This suggests it's machine-readable and not just a descriptive sentence.\n", "2.  **Recheck is in the Future:** Checks if the `recheck.due_time` is set to a future date.\n", "3.  **Silo Anti-Patterns:** Checks for common anti-patterns in the DevOps/SRE silo, such as having a vague rollback action."]
  },
  {
   "cell_type": "code",
   "execution_count": null,
   "metadata": {},
   "outputs": [],
   "source": ["import json\n", "import glob\n", "from datetime import datetime\n", "import re\n", "import os\n", "\n", "def test_kill_criteria_is_measurable(card):\n", "    \"\"\"Checks if kill criteria conditions are likely machine-readable.\"\"\"\n", "    results = []\n", "    measurable_operators = re.compile(r'[><=]=?')\n", "    for criteria in card.get('kill_criteria', []):\n", "        condition = criteria.get('condition', '')\n", "        if not measurable_operators.search(condition):\n", "            results.append(f'FAIL: Condition \"{condition}\" is not easily measurable.')\n", "        else:\n", "            results.append(f'PASS: Condition \"{condition}\" appears measurable.')\n", "    return results\n", "\n", "def test_recheck_is_in_future(card):\n", "    \"\"\"Checks if the recheck due_time is in the future.\"\"\"\n", "    results = []\n", "    recheck = card.get('recheck', { })\n", "    due_time_str = recheck.get('due_time')\n", "    if due_time_str:\n", "        try:\n", "            due_time = datetime.fromisoformat(due_time_str.replace('Z', '+00:00'))\n", "            if due_time <= datetime.now(due_time.tzinfo):\n", "                results.append(f'FAIL: Recheck time {due_time_str} is in the past.')\n", "            else:\n", "                results.append(f'PASS: Recheck time {due_time_str} is in the future.')\n", "        except ValueError:\n", "            results.append(f'WARN: Could not parse due_time \"{due_time_str}\".')\n", "    return results\n", "\n", "def test_for_silo_anti_patterns(card):\n", "    \"\"\"Checks for DevOps/SRE specific anti-patterns.\"\"\"\n", "    results = []\n", "    for criteria in card.get('kill_criteria', []):\n", "        action = criteria.get('action', '').lower()\n", "        if action == 'rollback' or action == 'revert':\n", "            results.append(f'WARN: Action \"{criteria.get(\'action\')}\" is vague. Consider specifying the rollback mechanism (e.g., \'auto rollback 10% and page owner\').')\n", "        else:\n", "            results.append(f'PASS: Action \"{criteria.get(\'action\')}\" is specific.')\n", "    return results\n", "\n", "def run_tests(card_path):\n", "    print(f'--- Analyzing: {os.path.basename(card_path)} ---')\n", "    try:\n", "        with open(card_path, 'r') as f:\n", "            card = json.load(f)\n", "    except json.JSONDecodeError:\n", "        print('ERROR: Could not decode JSON.')\n", "        return\n", "    \n", "    all_results = []\n", "    all_results.extend(test_kill_criteria_is_measurable(card))\n", "    all_results.extend(test_recheck_is_in_future(card))\n", "    all_results.extend(test_for_silo_anti_patterns(card))\n", "    \n", "    for res in all_results:\n", "        print(res)\n", "    print('\n')\n", "\n", "# Find all clipcard files in the examples directory\n", "# In a real scenario, you might search the whole project.\n", "example_cards = glob.glob('../../examples/*.clipcard.json')\n", "\n", "if not example_cards:\n", "    print('No ClipCards found in the examples directory.')\n", "else:\n", "    for card_file in example_cards:\n", "        run_tests(card_file)"]
  }
 ],
 "metadata": {
  "kernelspec": {
   "display_name": "Python 3",
   "language": "python",
   "name": "python3"
  },
  "language_info": {
   "name": "python",
   "version": "3.11.0"
  }
 },
 "nbformat": 4,
 "nbformat_minor": 4
}