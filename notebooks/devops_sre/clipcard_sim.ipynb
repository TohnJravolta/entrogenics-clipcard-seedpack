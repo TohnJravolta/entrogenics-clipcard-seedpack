{
 "cells": [
  {
   "cell_type": "markdown",
   "metadata": {},
   "source": [
    "# ClipCard Simulation: DevOps/SRE\n",
    "\n",
    "**Purpose:** This notebook runs a Monte Carlo simulation to estimate the effectiveness of a ClipCard's parameters for the DevOps/SRE silo.\n",
    "\n",
    "It simulates deployments and checks if randomly generated metrics (like error rate) would trigger the `kill_criteria` defined in a ClipCard. This helps quantify the risk reduction provided by the card's specific configuration."
   ]
  },
  {
   "cell_type": "code",
   "execution_count": null,
   "metadata": {},
   "outputs": [],
   "source": [
    "import pandas as pd\n",
    "import numpy as np\n",
    "import matplotlib.pyplot as plt\n",
    "import re\n",
    "\n",
    "# Load the aggregated ClipCard data\n",
    "try:\n",
    "    cards_df = pd.read_csv('../../data/clipmap/cards.csv')\n",
    "    # Filter for devops_sre domain if other domains exist\n",
    "    sre_cards = cards_df[cards_df['domain'] == 'dfm-devops-sre'].copy()\n",
    "except FileNotFoundError:\n",
    "    print('ERROR: cards.csv not found. Please ensure the data exists.')\n",
    "    sre_cards = pd.DataFrame() # Empty dataframe to prevent further errors"
   ]
  },
  {
   "cell_type": "markdown",
   "metadata": {},
   "source": [
    "### Simulation Engine\n",
    "\n",
    "This engine simulates a series of events and checks them against the kill criteria of a specific ClipCard."
   ]
  },
  {
   "cell_type": "code",
   "execution_count": null,
   "metadata": {},
   "outputs": [],
   "source": [
    "def parse_condition(condition_str):\n",
    "    \"\"\"Parses a simple condition string like 'error_rate > 0.01' into parts.\"\"\"\n",
    "    match = re.match(r'([\w_]+)\s*([><=!]+)\s*([\d\.]+)', condition_str)\n",
    "    if match:\n",
    "        return match.groups()\n",
    "    return None, None, None\n",
    "\n",
    "def run_devops_simulation(kill_criteria, num_simulations=10000):\n",
    "    \"\"\"Runs a Monte Carlo simulation for DevOps kill criteria.\"\"\"\n",
    "    incidents_prevented = 0\n",
    "    incidents_missed = 0\n",
    "    \n",
    "    # Let's assume a 'bad' deployment has a high underlying error rate\n",
    "    # We simulate the observed error rate, which has some randomness\n",
    "    underlying_error_rate_dist = np.random.uniform(0, 0.05, num_simulations)\n",
    "    observed_error_rate_dist = underlying_error_rate_dist + np.random.normal(0, 0.005, num_simulations)\n",
    "    observed_error_rate_dist[observed_error_rate_dist < 0] = 0 # Error rate can't be negative\n",
    "    \n",
    "    for i in range(num_simulations):\n",
    "        is_a_real_incident = underlying_error_rate_dist[i] > 0.01 # Ground truth\n",
    "        trigger_hit = False\n",
    "        \n",
    "        for criteria in kill_criteria:\n",
    "            metric, operator, value = parse_condition(criteria['condition'])\n",
    "            if metric == 'error_rate' and operator == '>':\n",
    "                if observed_error_rate_dist[i] > float(value):\n",
    "                    trigger_hit = True\n",
    "                    break\n",
    "        \n",
    "        if trigger_hit and is_a_real_incident:\n",
    "            incidents_prevented += 1\n",
    "        elif not trigger_hit and is_a_real_incident:\n",
    "            incidents_missed += 1\n",
    "            \n",
    "    return incidents_prevented, incidents_missed, observed_error_rate_dist\n",
    "\n",
    "# We need to get the kill criteria from an actual card.\n",
    "# Let's manually define it based on BILLING-CHANGE-2049.clipcard.json for this example.\n",
    "billing_kill_criteria = [\n",
    "    { \"condition\": \"error_rate > 0.01\", \"action\": \"rollback\" },\n",
    "    { \"condition\": \"any_double_charge == true\", \"action\": \"rollback\" }\n",
    ">"]
  },
  {
   "cell_type": "markdown",
   "metadata": {},
   "source": [
    "### Visualization\n",
    "\n",
    "This histogram shows the distribution of simulated error rates. The red line indicates the kill criterion threshold. Events to the right of the line were successfully caught."
   ]
  },
  {
   "cell_type": "code",
   "execution_count": null,
   "metadata": {},
   "outputs": [],
   "source": [
    "plt.figure(figsize=(12, 6))\n",
    "plt.hist(distribution, bins=50, alpha=0.7, label='Simulated Error Rates')\n",
    "\n",
    "# Get the threshold from the kill criteria\n",
    "threshold = None\n",
    "for criteria in billing_kill_criteria:\n",
    "    metric, operator, value = parse_condition(criteria['condition'])\n",
    "    if metric == 'error_rate' and operator == '>':\n",
    "        threshold = float(value)\n",
    "        break\n",
    "\n",
    "if threshold:\n",
    "    plt.axvline(x=threshold, color='r', linestyle='--', linewidth=2, label=f'Kill Criterion: error_rate > {threshold}')\n",
    "\n",
    "plt.title('Monte Carlo Simulation of Observed Error Rates')\n",
    "plt.xlabel('Observed Error Rate')\n",
    "plt.ylabel('Frequency')\n",
    "plt.legend()\n",
    "plt.grid(True, which=\'both\', linestyle='--\', linewidth=0.5)\n",
    "plt.show()"
   ]
  }
 ],
 "metadata": {
  "kernelspec": {
   "display_name": "Python 3",
   "language": "python",
   "name": "python3"
  },
  "language_info": {
   "name": "python",
   "version": "3.11.0"
  }
 },
 "nbformat": 4,
 "nbformat_minor": 4
}
