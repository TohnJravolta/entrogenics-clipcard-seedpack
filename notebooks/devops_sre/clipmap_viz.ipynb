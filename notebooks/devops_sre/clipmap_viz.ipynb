{
 "cells": [
  {
   "cell_type": "markdown",
   "metadata": {},
   "source": [
    "# ClipMap Visualization: DevOps/SRE\n",
    "\n",
    "**Purpose:** This notebook visualizes the aggregated ClipCard data to identify systemic patterns and recurring failure modes for the DevOps/SRE silo.\n",
    "\n",
    "It focuses on answering questions like:\n",
    "- What are the most common types of hazards we face?\n",
    "- Is there a relationship between certain hazards and their outcomes?"
   ]
  },
  {
   "cell_type": "code",
   "execution_count": null,
   "metadata": {},
   "outputs": [],
   "source": [
    "import pandas as pd\n",
    "import matplotlib.pyplot as plt\n",
    "import seaborn as sns\n",
    "\n",
    "# Load the aggregated ClipCard data\n",
    "try:\n",
    "    cards_df = pd.read_csv('../../data/clipmap/cards.csv')\n",
    "    events_df = pd.read_csv('../../data/clipmap/events.csv')\n",
    "    # Filter for devops_sre domain if other domains exist\n",
    "    sre_cards = cards_df[cards_df['domain'] == 'dfm-devops-sre'].copy()\n",
    "    # Merge the two dataframes to link hazards with outcomes\n",
    "    merged_df = pd.merge(sre_cards, events_df, left_on='id', right_on='card_id')\n",
    "except FileNotFoundError as e:\n",
    "    print(f'ERROR: {e.filename} not found. Please ensure the data exists.')\n",
    "    merged_df = pd.DataFrame() # Empty dataframe to prevent further errors"
   ]
  },
  {
   "cell_type": "markdown",
   "metadata": {},
   "source": [
    "### Hazard Frequency\n",
    "\n",
    "First, let's analyze the types of hazards we are logging. For simplicity, we'll extract keywords from the `telos` (hazard description) field."
   ]
  },
  {
   "cell_type": "code",
   "execution_count": null,
   "metadata": {},
   "outputs": [],
   "source": [
    "if not merged_df.empty:\n",
    "    # Extract keywords from the hazard description\n",
    "    # This is a simple approach; a more advanced method would use NLP\n",
    "    merged_df['hazard_keywords'] = merged_df['telos'].str.findall(r'(billing|database|API|downstream|corruption|charges)')\n",
    "    merged_df['hazard_keywords'] = merged_df['hazard_keywords'].apply(lambda x: x[0] if isinstance(x, list) and len(x) > 0 else 'other')\n",
    "\n",
    "    plt.figure(figsize=(10, 6))\n",
    "    sns.countplot(y='hazard_keywords', data=merged_df, order=merged_df['hazard_keywords'].value_counts().index)\n",
    "    plt.title('Frequency of Hazard Types in DevOps/SRE')\n",
    "    plt.xlabel('Count')\n",
    "    plt.ylabel('Hazard Keyword')\n",
    "    plt.grid(axis='x', linestyle='--', alpha=0.7)\n",
    "    plt.show()\n",
    "else:\n",
    "    print('Data is empty. Cannot plot hazard frequency.')"
   ]
  },
  {
   "cell_type": "markdown",
   "metadata": {},
   "source": [
    "### Hazard-Outcome Heatmap\n",
    "\n",
    "This heatmap shows the relationship between hazard types and their final outcomes. It can help us spot if certain hazards are more likely to result in incidents being prevented (a good thing) or other outcomes."
   ]
  },
  {
   "cell_type": "code",
   "execution_count": null,
   "metadata": {},
   "outputs": [],
   "source": [
    "if not merged_df.empty:\n",
    "    # Create a contingency table (crosstab) of hazards and outcomes\n",
    "    contingency_table = pd.crosstab(merged_df['hazard_keywords'], merged_df['outcome'])\n",
    "\n",
    "    plt.figure(figsize=(12, 7))\n",
    "    sns.heatmap(contingency_table, annot=True, cmap='YlGnBu', fmt='d')\n",
    "    plt.title('Heatmap of Hazard Keywords vs. Outcomes')\n",
    "    plt.xlabel('Outcome')\n",
    "    plt.ylabel('Hazard Keyword')\n",
    "    plt.show()\n",
    "else:\n",
    "    print('Data is empty. Cannot plot heatmap.')"
   ]
  }
 ],
 "metadata": {
  "kernelspec": {
   "display_name": "Python 3",
   "language": "python",
   "name": "python3"
  },
  "language_info": {
   "name": "python",
   "version": "3.11.0"
  }
 },
 "nbformat": 4,
 "nbformat_minor": 4
}
