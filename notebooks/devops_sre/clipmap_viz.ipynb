{
 "cells": [
  {
   "cell_type": "markdown",
   "metadata": {},
   "source": "# ClipMap Visualization — DevOps / SRE\n\n\n# ClipCard Notebook Plan (auto-generated 2025-10-13)\n\nThis notebook is a scaffold for the **ClipCard (Risk & Recheck)** seedpack.\n\n- **Base schema** (`schema/clipcard.schema.v1.json`) is required.\n- **Extended schema** (`schema/clipcard.schema.v1e.json`) is optional.\n- Works with CSVs under `data/clipmap/*.csv` and any `**/*.clipcard.json` in your repo.\n\n## Inputs\n- `schema/clipcard.schema.v1.json` (required)\n- `schema/clipcard.schema.v1e.json` (optional)\n- `data/clipmap/cards.csv` and `data/clipmap/events.csv` (optional; created by CI)\n- Any `**/*.clipcard.json` examples you add\n\n## Outputs\n- Console metrics and/or CSVs in `notebooks/_out/`\n- Plots (if matplotlib installed)\n- Notes you can copy into Field Reports\n\n> Optional installs (inside a notebook cell):\n>\n> ```\n> %pip install pandas jsonschema matplotlib\n> ```\n"
  },
  {
   "cell_type": "markdown",
   "metadata": {},
   "source": "\n## ClipMap quick viz\n\n- Shows counts by domain (if cards.csv present)\n- Head of events (if any)\n- Add more plots as needed\n"
  },
  {
   "cell_type": "code",
   "metadata": {},
   "execution_count": null,
   "outputs": [],
   "source": "\n# %pip install pandas matplotlib\nimport os\ncards_path = os.path.join(\"data\",\"clipmap\",\"cards.csv\")\nevents_path = os.path.join(\"data\",\"clipmap\",\"events.csv\")\n\ntry:\n    import pandas as pd\n    import matplotlib.pyplot as plt\nexcept Exception as e:\n    pd = None\n    plt = None\n\nif not pd:\n    print(\"Install pandas/matplotlib to render charts.\")\nelse:\n    if os.path.exists(cards_path):\n        cards = pd.read_csv(cards_path)\n        display(cards.head())\n        if \"domain\" in cards.columns and plt:\n            counts = cards[\"domain\"].value_counts()\n            counts.plot(kind=\"bar\")\n            plt.title(\"Cards by domain\")\n            plt.xlabel(\"domain\")\n            plt.ylabel(\"count\")\n            plt.show()\n    else:\n        print(\"No cards.csv yet. Generate by pushing *.clipcard.json and running CI.\")\n\n    if os.path.exists(events_path):\n        events = pd.read_csv(events_path)\n        display(events.head())\n    else:\n        print(\"No events.csv yet.\")\n"
  }
 ],
 "metadata": {
  "kernelspec": {
   "name": "python3",
   "display_name": "Python 3"
  },
  "language_info": {
   "name": "python",
   "pygments_lexer": "ipython3"
  }
 },
 "nbformat": 4,
 "nbformat_minor": 5
}