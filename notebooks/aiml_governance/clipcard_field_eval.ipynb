{
 "cells": [
  {
   "cell_type": "markdown",
   "metadata": {},
   "source": [
    "# ClipCard Field Evaluation: AI/ML Governance\n",
    "\n",
    "**Purpose:** This notebook analyzes historical data from the `clipmap` CSVs to evaluate the real-world performance of the ClipCard system over time for the **AI/ML Governance** silo.\n",
    "\n",
    "It calculates and visualizes key metrics as defined in the `dfm-aiml-governance.md` framework document, such as:\n",
    "- Wrongful Action Rate\n",
    "- Appeal Rate\n",
    "- Review On-Time %"
   ]
  },
  {
   "cell_type": "code",
   "execution_count": null,
   "metadata": {},
   "outputs": [],
   "source": [
    "import pandas as pd\n",
    "import numpy as np\n",
    "import matplotlib.pyplot as plt\n",
    "import matplotlib.dates as mdates\n",
    "\n",
    "# Load the aggregated ClipCard data\n",
    "try:\n",
    "    cards_df = pd.read_csv('../../data/clipmap/cards.csv')\n",
    "    events_df = pd.read_csv('../../data/clipmap/events.csv')\n",
    "    # Filter for the correct domain and merge\n",
    "    aiml_cards = cards_df[cards_df['domain'] == 'dfm-aiml-governance'].copy()\n",
    "    merged_df = pd.merge(aiml_cards, events_df, left_on='id', right_on='card_id')\n",
    "    merged_df['time'] = pd.to_datetime(merged_df['time'])\n",
    "except FileNotFoundError as e:\n",
    "    print(f'ERROR: {e.filename} not found. Please ensure the data exists.')\n",
    "    merged_df = pd.DataFrame()"
   ]
  },
  {
   "cell_type": "markdown",
   "metadata": {},
   "source": [
    "### Metric 1: Wrongful Action Rate\n",
    "\n",
    "**Note:** The sample data does not contain enough detail to calculate a true `wrongful_action_rate`. We will use a placeholder calculation based on the number of incidents prevented vs. successful changes, grouped by week."
   ]
  },
  {
   "cell_type": "code",
   "execution_count": null,
   "metadata": {},
   "outputs": [],
   "source": [
    "if not merged_df.empty:\n",
    "    events_by_week = merged_df.set_index('time')\n",
    "    \n",
    "    # Placeholder for wrongful actions - we'll use 'Incident Prevented' as a proxy\n",
    "    weekly_wrongful = events_by_week[events_by_week['outcome'] == 'Incident Prevented'].resample('W').size()\n",
    "    weekly_total = events_by_week.resample('W').size()\n",
    "    \n",
    "    war_df = pd.DataFrame({'wrongful_proxy': weekly_wrongful, 'total': weekly_total}).fillna(0)\n",
    "    # Calculate rate per 10,000 actions as per the DFM\n",
    "    war_df['war'] = (war_df['wrongful_proxy'] / war_df['total'] * 10000).fillna(0)\n",
    "\n",
    "    # Plotting\n",
    "    fig, ax = plt.subplots(figsize=(12, 6))\n",
    "    ax.plot(war_df.index, war_df['war'], marker='o', linestyle='-', label='Wrongful Action Rate (per 10k)')\n",
    "\n",
    "    ax.set_title('Wrongful Action Rate Over Time (Placeholder)')\n",
    "    ax.set_ylabel('Rate per 10,000')\n",
    "    ax.set_xlabel('Week')\n",
    "    ax.grid(True, which='both', linestyle='--', linewidth=0.5)\n",
    "    ax.xaxis.set_major_formatter(mdates.DateFormatter('%Y-%m-%d'))\n",
    "    plt.xticks(rotation=45)\n",
    "    ax.legend()\n",
    "    plt.tight_layout()\n",
    "    plt.show()\n",
    "else:\n",
    "    print('Data is empty. Cannot calculate Wrongful Action Rate.')"
   ]
  }
 ],
 "metadata": {
  "kernelspec": {
   "display_name": "Python 3",
   "language": "python",
   "name": "python3"
  },
  "language_info": {
   "name": "python",
   "version": "3.11.0"
  }
 },
 "nbformat": 4,
 "nbformat_minor": 4
}