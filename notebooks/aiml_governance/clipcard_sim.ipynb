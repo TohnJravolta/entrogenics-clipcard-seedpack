{
 "cells": [
  {
   "cell_type": "markdown",
   "metadata": {},
   "source": [
    "# ClipCard Simulation: AI/ML Governance\n",
    "\n",
    "**Purpose:** This notebook runs a Monte Carlo simulation to estimate the effectiveness of ClipCard parameters for AI/ML model releases.\n",
    "\n",
    "It simulates model releases and checks if randomly generated metrics (like `pii_leak_count` or `jailbreak_hit_rate`) would trigger the `kill_criteria` defined in a ClipCard. This helps quantify the risk reduction provided by the card's specific configuration."
   ]
  },
  {
   "cell_type": "code",
   "execution_count": null,
   "metadata": {},
   "outputs": [],
   "source": [
    "import pandas as pd\n",
    "import numpy as np\n",
    "import matplotlib.pyplot as plt\n",
    "import json\n",
    "import glob\n",
    "\n",
    "# Load example ClipCards from the examples or data directory\n",
    "try:\n",
    "    with open('../../examples/test.clipcard.json', 'r') as f:\n",
    "        example_card = json.load(f)\n",
    "    print(f\"Loaded example ClipCard: {example_card['id']}\")\n",
    "except FileNotFoundError:\n",
    "    print(\"No example ClipCard found. Using synthetic data.\")\n",
    "    example_card = {\n",
    "        \"id\": \"SIM-AIML-001\",\n",
    "        \"kill_criteria\": [\n",
    "            {\"condition\": \"pii_leak_count >= 1\", \"action\": \"Rollback immediately\"},\n",
    "            {\"condition\": \"jailbreak_rate > 0.005\", \"action\": \"Reduce cohort to 1%\"}\n",
    "        ],\n",
    "        \"authority_window\": {\"scope_limit\": \"5% cohort\", \"time_limit\": \"30d\"}\n",
    "    }"
   ]
  },
  {
   "cell_type": "markdown",
   "metadata": {},
   "source": [
    "### Simulation Parameters\n",
    "\n",
    "Configure simulation runs and metric distributions"
   ]
  },
  {
   "cell_type": "code",
   "execution_count": null,
   "metadata": {},
   "outputs": [],
   "source": [
    "# Simulation configuration\n",
    "N_SIMULATIONS = 1000  # Number of release simulations\n",
    "COHORT_SIZE = 0.05    # 5% of users\n",
    "BASE_PII_LEAK_RATE = 0.0001  # Base probability of PII leak per interaction\n",
    "BASE_JAILBREAK_RATE = 0.003   # Base jailbreak rate\n",
    "\n",
    "print(f\"Running {N_SIMULATIONS} simulations...\")\n",
    "print(f\"Cohort size: {COHORT_SIZE*100}%\")\n",
    "print(f\"Base PII leak rate: {BASE_PII_LEAK_RATE}\")\n",
    "print(f\"Base jailbreak rate: {BASE_JAILBREAK_RATE}\")"
   ]
  },
  {
   "cell_type": "markdown",
   "metadata": {},
   "source": [
    "### Monte Carlo Simulation\n",
    "\n",
    "Run simulations and track kill criteria triggers"
   ]
  },
  {
   "cell_type": "code",
   "execution_count": null,
   "metadata": {},
   "outputs": [],
   "source": [
    "results = []\n",
    "\n",
    "for i in range(N_SIMULATIONS):\n",
    "    # Simulate metrics for a 24-hour period\n",
    "    interactions = np.random.poisson(10000)  # Number of interactions\n",
    "    \n",
    "    # Simulate PII leaks (Poisson process)\n",
    "    pii_leaks = np.random.poisson(BASE_PII_LEAK_RATE * interactions)\n",
    "    \n",
    "    # Simulate jailbreak rate (Beta distribution with noise)\n",
    "    jailbreak_rate = np.random.beta(2, 500) + BASE_JAILBREAK_RATE\n",
    "    \n",
    "    # Check kill criteria\n",
    "    pii_trigger = pii_leaks >= 1\n",
    "    jailbreak_trigger = jailbreak_rate > 0.005\n",
    "    any_trigger = pii_trigger or jailbreak_trigger\n",
    "    \n",
    "    results.append({\n",
    "        'sim_id': i,\n",
    "        'interactions': interactions,\n",
    "        'pii_leaks': pii_leaks,\n",
    "        'jailbreak_rate': jailbreak_rate,\n",
    "        'pii_trigger': pii_trigger,\n",
    "        'jailbreak_trigger': jailbreak_trigger,\n",
    "        'any_trigger': any_trigger\n",
    "    })\n",
    "\n",
    "df = pd.DataFrame(results)\n",
    "print(f\"\\nSimulation complete!\")\n",
    "print(f\"PII leak triggers: {df['pii_trigger'].sum()} ({df['pii_trigger'].mean()*100:.1f}%)\")\n",
    "print(f\"Jailbreak triggers: {df['jailbreak_trigger'].sum()} ({df['jailbreak_trigger'].mean()*100:.1f}%)\")\n",
    "print(f\"Any trigger: {df['any_trigger'].sum()} ({df['any_trigger'].mean()*100:.1f}%)\")"
   ]
  },
  {
   "cell_type": "markdown",
   "metadata": {},
   "source": [
    "### Visualization\n",
    "\n",
    "Plot trigger distributions and risk reduction"
   ]
  },
  {
   "cell_type": "code",
   "execution_count": null,
   "metadata": {},
   "outputs": [],
   "source": [
    "fig, axes = plt.subplots(1, 3, figsize=(15, 4))\n",
    "\n",
    "# PII leak distribution\n",
    "axes[0].hist(df['pii_leaks'], bins=30, alpha=0.7, edgecolor='black')\n",
    "axes[0].axvline(1, color='red', linestyle='--', label='Kill threshold')\n",
    "axes[0].set_xlabel('PII Leaks per 24h')\n",
    "axes[0].set_ylabel('Frequency')\n",
    "axes[0].set_title('PII Leak Distribution')\n",
    "axes[0].legend()\n",
    "\n",
    "# Jailbreak rate distribution\n",
    "axes[1].hist(df['jailbreak_rate'], bins=30, alpha=0.7, edgecolor='black')\n",
    "axes[1].axvline(0.005, color='red', linestyle='--', label='Kill threshold')\n",
    "axes[1].set_xlabel('Jailbreak Rate')\n",
    "axes[1].set_ylabel('Frequency')\n",
    "axes[1].set_title('Jailbreak Rate Distribution')\n",
    "axes[1].legend()\n",
    "\n",
    "# Trigger summary\n",
    "trigger_counts = [\n",
    "    df['pii_trigger'].sum(),\n",
    "    df['jailbreak_trigger'].sum(),\n",
    "    df['any_trigger'].sum()\n",
    "]\n",
    "trigger_labels = ['PII Leak', 'Jailbreak', 'Any Trigger']\n",
    "axes[2].bar(trigger_labels, trigger_counts, alpha=0.7, edgecolor='black')\n",
    "axes[2].set_ylabel('Number of Triggers')\n",
    "axes[2].set_title(f'Kill Criteria Triggers (n={N_SIMULATIONS})')\n",
    "axes[2].axhline(N_SIMULATIONS * 0.05, color='orange', linestyle='--', label='5% threshold')\n",
    "axes[2].legend()\n",
    "\n",
    "plt.tight_layout()\n",
    "plt.show()\n",
    "\n",
    "print(f\"\\n** Interpretation **\")\n",
    "print(f\"In {N_SIMULATIONS} simulated 24h periods with a {COHORT_SIZE*100}% cohort:\")\n",
    "print(f\"- Kill criteria would trigger {df['any_trigger'].mean()*100:.1f}% of the time\")\n",
    "print(f\"- This suggests the authority window provides {(1-df['any_trigger'].mean())*100:.1f}% safe operation probability\")\n",
    "print(f\"- Estimated incident prevention: {df['any_trigger'].sum()} potential incidents caught early\")"
   ]
  }
 ],
 "metadata": {
  "kernelspec": {
   "display_name": "Python 3",
   "language": "python",
   "name": "python3"
  },
  "language_info": {
   "name": "python",
   "version": "3.11.0"
  }
 },
 "nbformat": 4,
 "nbformat_minor": 4
}
