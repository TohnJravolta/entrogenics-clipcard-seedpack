{
 "cells": [
  {
   "cell_type": "markdown",
   "metadata": {},
   "source": [
    "# ClipCard Agent Test: Civic/ICS",
    "\n",
    "**Purpose:** This notebook tests whether an AI agent (LLM) can correctly parse, validate, and reason about ClipCards in the Civic / Incident Command System (ICS) domain.",
    "\n",
    "It evaluates:",
    "1. Can the agent extract kill criteria from an ICS ClipCard?",
    "2. Can it determine if a given field report (scenario) would trigger the criteria?",
    "3. Can it suggest appropriate authority windows for different operational risks?"
   ]
  },
  {
   "cell_type": "code",
   "execution_count": null,
   "metadata": {},
   "outputs": [],
   "source": [
    "import json",
    "import pandas as pd",
    "",
    "# Load example ClipCard",
    "try:",
    "    with open('../../examples/ics-test.clipcard.json', 'r') as f:",
    "        test_card = json.load(f)",
    "    print(\"Loaded test ClipCard:\")",
    "    print(json.dumps(test_card, indent=2))",
    "except FileNotFoundError:",
    "    print(\"No test ClipCard found.\")",
    "    test_card = None"
   ]
  },
  {
   "cell_type": "markdown",
   "metadata": {},
   "source": [
    "### Test 1: Extract Kill Criteria",
    "\n",
    "Can we programmatically parse the demobilization triggers (kill criteria)?"
   ]
  },
  {
   "cell_type": "code",
   "execution_count": null,
   "metadata": {},
   "outputs": [],
   "source": [
    "if test_card:",
    "    kill_criteria = test_card.get('kill_criteria', [])",
    "    print(f\"Found {len(kill_criteria)} kill criteria:\\n\")",
    "    for i, criterion in enumerate(kill_criteria, 1):",
    "        print(f\"{i}. Condition: {criterion['condition']}\")",
    "        print(f\"   Action: {criterion['action']}\\\n\")",
    "else:",
    "    print(\"No ClipCard available for testing.\")"
   ]
  },
  {
   "cell_type": "markdown",
   "metadata": {},
   "source": [
    "### Test 2: Scenario Evaluation",
    "\n",
    "Test if field reports (scenarios) from an operational period would trigger the kill criteria."
   ]
  },
  {
   "cell_type": "code",
   "execution_count": null,
   "metadata": {},
   "outputs": [],
   "source": [
    "# Define test scenarios for ICS operations",
    "scenarios = [",
    "    {",
    "        \"name\": \"Normal Operations\",",
    "        \"median_queue_time_minutes\": 15,",
    "        \"water_stockout\": false,",
    "        \"safety_incident_class\": 0,",
    "        \"expected_trigger\": false",
    "    },",
    "    {",
    "        \"name\": \"Long Queues\",",
    "        \"median_queue_time_minutes\": 40,",
    "        \"water_stockout\": false,",
    "        \"safety_incident_class\": 0,",
    "        \"expected_trigger\": true",
    "    },",
    "    {",
    "        \"name\": \"Logistics Failure\",",
    "        \"median_queue_time_minutes\": 20,",
    "        \"water_stockout\": true,",
    "        \"safety_incident_class\": 1,",
    "        \"expected_trigger\": true",
    "    },",
    "    {",
    "        \"name\": \"Safety Incident\",",
    "        \"median_queue_time_minutes\": 10,",
    "        \"water_stockout\": false,",
    "        \"safety_incident_class\": 3,",
    "        \"expected_trigger\": true",
    "    }",
    "],",
    "",
    "def evaluate_ics_scenarios(card, scenarios):",
    "    results = []",
    "    criteria = card.get('kill_criteria', [])",
    "    ",
    "    for scenario in scenarios:",
    "        triggered = False",
    "        for rule in criteria:",
    "            condition = rule['condition']",
    "            if 'median_queue_time_minutes' in condition and scenario['median_queue_time_minutes'] > 30:",
    "                triggered = True",
    "            if 'water_stockout' in condition and scenario['water_stockout'] == True:",
    "                triggered = True",
    "            if 'safety_incident_class' in condition and scenario['safety_incident_class'] >= 2:",
    "                triggered = True",
    "        ",
    "        match = triggered == scenario['expected_trigger']",
    "        results.append({",
    "            'Scenario': scenario['name'],",
    "            'Triggered': triggered,",
    "            'Expected': scenario['expected_trigger'],",
    "            'Match': '✓' if match else '✗'",
    "        })",
    "    return pd.DataFrame(results)",
    "",
    "if test_card:",
    "    df_results = evaluate_ics_scenarios(test_card, scenarios)",
    "    print(\"Evaluating ICS scenarios against the test ClipCard:\\n\")",
    "    print(df_results.to_string(index=False))",
    "    print(f\"\\nTest Accuracy: {df_results['Match'].value_counts().get('✓', 0)}/{len(df_results)}\")"
   ]
  },
  {
   "cell_type": "markdown",
   "metadata": {},
   "source": [
    "### Test 3: Authority Window Recommendations",
    "\n",
    "Generate appropriate authority windows for an operational plan based on risk factors."
   ]
  },
  {
   "cell_type": "code",
   "execution_count": null,
   "metadata": {},
   "outputs": [],
   "source": [
    "def recommend_ics_authority_window(impact, uncertainty, reversibility):",
    "    \"\"\"Recommends an ICS-specific authority window based on risk.\"\"\"",
    "    risk_score = impact * uncertainty",
    "    ",
    "    if risk_score >= 20 or reversibility >= 5:",
    "        return {",
    "            \"scope_limit\": \"Single Group or Task Force only\",",
    "            \"time_limit\": \"4 hours (re-evaluate at mid-OP)\",",
    "            \"auto_pause\": true,",
    "            \"justification\": \"Very high risk requires tight control and frequent re-evaluation.\"",
    "        }",
    "    elif risk_score >= 15 or reversibility >= 4:",
    "        return {",
    "            \"scope_limit\": \"Single Division, limited resources\",",
    "            \"time_limit\": \"1 Operational Period (12h)\",",
    "            \"auto_pause\": true,",
    "            \"justification\": \"High risk requires containing the action within one Division and OP.\"",
    "        }",
    "    else:",
    "        return {",
    "            \"scope_limit\": \"Branch-level, multiple Divisions\",",
    "            \"time_limit\": \"2-3 Operational Periods\",",
    "            \"auto_pause\": false,",
    "            \"justification\": \"Lower risk allows for broader, multi-day operations.\"",
    "        }",
    "",
    "# Test with example ICS scenarios",
    "test_cases = [",
    "    {\"name\": \"New evacuation route\", \"impact\": 5, \"uncertainty\": 5, \"reversibility\": 4},",
    "    {\"name\": \"Deploying volunteer-led traffic control\", \"impact\": 3, \"uncertainty\": 4, \"reversibility\": 2},",
    "    {\"name\": \"Opening a new supply point\", \"impact\": 2, \"uncertainty\": 3, \"reversibility\": 1}",
    "],",
    "",
    "print(\"ICS Authority Window Recommendations:\\n\")",
    "for case in test_cases:",
    "    rec = recommend_ics_authority_window(case['impact'], case['uncertainty'], case['reversibility'])",
    "    print(f\"{case['name']} (I={case['impact']}, U={case['uncertainty']}, R={case['reversibility']}):\")",
    "    print(f\"  Scope: {rec['scope_limit']}\")",
    "    print(f\"  Duration: {rec['time_limit']}\")",
    "    print(f\"  Auto-pause: {rec['auto_pause']}\")",
    "    print(f\"  Reason: {rec['justification']}\\\n\")"
   ]
  }
 ],
 "metadata": {
  "kernelspec": {
   "display_name": "Python 3",
   "language": "python",
   "name": "python3"
  },
  "language_info": {
   "name": "python",
   "version": "3.11.0"
  }
 },
 "nbformat": 4,
 "nbformat_minor": 4
}