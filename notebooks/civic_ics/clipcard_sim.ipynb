{
  "cells": [
    {
      "cell_type": "markdown",
      "id": "cell-0",
      "metadata": {},
      "source": [
        "# ClipCard Simulation: Civic/ICS\n",
        "\n",
        "**Purpose:** This notebook runs a Monte Carlo simulation to estimate the effectiveness of ClipCard parameters for civic incident command operations.\n",
        "\n",
        "It simulates operations and checks if randomly generated metrics (like `queue_time` or `stockout`) would trigger the `kill_criteria` defined in a ClipCard. This helps quantify the risk reduction provided by the card's specific configuration."
      ]
    },
    {
      "cell_type": "code",
      "execution_count": null,
      "id": "cell-1",
      "metadata": {},
      "outputs": [],
      "source": [
        "import pandas as pd\n",
        "import numpy as np\n",
        "import matplotlib.pyplot as plt\n",
        "import json\n",
        "import glob\n",
        "\n",
        "# Load example ClipCards from the examples or data directory\n",
        "try:\n",
        "    with open('../../examples/test.clipcard.json', 'r') as f:\n",
        "        example_card = json.load(f)\n",
        "    print(f\"Loaded example ClipCard: {example_card['id']}\")\n",
        "except FileNotFoundError:\n",
        "    print(\"No example ClipCard found. Using synthetic data.\")\n",
        "    example_card = {\n",
        "        \"id\": \"SIM-CIVIC-001\",\n",
        "        \"kill_criteria\": [\n",
        "            {\"condition\": \"queue_time > 120\", \"action\": \"Activate overflow shelter\"},\n",
        "            {\"condition\": \"stockout >= 1\", \"action\": \"Request emergency supplies\"}\n",
        "        ],\n",
        "        \"authority_window\": {\"scope_limit\": \"Single Division\", \"time_limit\": \"30d\"}\n",
        "    }"
      ]
    },
    {
      "cell_type": "markdown",
      "id": "cell-2",
      "metadata": {},
      "source": [
        "### Simulation Parameters\n",
        "\n",
        "Configure simulation runs and metric distributions"
      ]
    },
    {
      "cell_type": "code",
      "execution_count": null,
      "id": "cell-3",
      "metadata": {},
      "outputs": [],
      "source": [
        "# Simulation configuration\n",
        "N_SIMULATIONS = 1000  # Number of operational simulations\n",
        "COHORT_SIZE = 0.20    # 20% of shelters\n",
        "BASE_QUEUE_TIME = 45  # Base queue time in minutes\n",
        "BASE_STOCKOUT_RATE = 0.0005  # Base stockout probability\n",
        "\n",
        "print(f\"Running {N_SIMULATIONS} simulations...\")\n",
        "print(f\"Shelter coverage: {COHORT_SIZE*100}%\")\n",
        "print(f\"Base queue time: {BASE_QUEUE_TIME} min\")\n",
        "print(f\"Base stockout rate: {BASE_STOCKOUT_RATE}\")"
      ]
    },
    {
      "cell_type": "markdown",
      "id": "cell-4",
      "metadata": {},
      "source": [
        "### Monte Carlo Simulation\n",
        "\n",
        "Run simulations and track kill criteria triggers"
      ]
    },
    {
      "cell_type": "code",
      "execution_count": null,
      "id": "cell-5",
      "metadata": {},
      "outputs": [],
      "source": [
        "results = []\n",
        "\n",
        "for i in range(N_SIMULATIONS):\n",
        "    # Simulate metrics for a 24-hour period\n",
        "    arrivals = np.random.poisson(200)  # Number of arrivals\n",
        "    \n",
        "    # Simulate queue time (Gamma distribution)\n",
        "    queue_time = np.random.gamma(2, BASE_QUEUE_TIME/2)\n",
        "    \n",
        "    # Simulate stockouts (Poisson process)\n",
        "    stockouts = np.random.poisson(BASE_STOCKOUT_RATE * arrivals)\n",
        "    \n",
        "    # Check kill criteria\n",
        "    queue_trigger = queue_time > 120\n",
        "    stockout_trigger = stockouts >= 1\n",
        "    any_trigger = queue_trigger or stockout_trigger\n",
        "    \n",
        "    results.append({\n",
        "        'sim_id': i,\n",
        "        'arrivals': arrivals,\n",
        "        'queue_time': queue_time,\n",
        "        'stockouts': stockouts,\n",
        "        'queue_trigger': queue_trigger,\n",
        "        'stockout_trigger': stockout_trigger,\n",
        "        'any_trigger': any_trigger\n",
        "    })\n",
        "\n",
        "df = pd.DataFrame(results)\n",
        "print(f\"\\nSimulation complete!\")\n",
        "print(f\"Queue time triggers: {df['queue_trigger'].sum()} ({df['queue_trigger'].mean()*100:.1f}%)\")\n",
        "print(f\"Stockout triggers: {df['stockout_trigger'].sum()} ({df['stockout_trigger'].mean()*100:.1f}%)\")\n",
        "print(f\"Any trigger: {df['any_trigger'].sum()} ({df['any_trigger'].mean()*100:.1f}%)\")"
      ]
    },
    {
      "cell_type": "markdown",
      "id": "cell-6",
      "metadata": {},
      "source": [
        "### Visualization\n",
        "\n",
        "Plot trigger distributions and risk reduction"
      ]
    },
    {
      "cell_type": "code",
      "execution_count": null,
      "id": "cell-7",
      "metadata": {},
      "outputs": [],
      "source": [
        "fig, axes = plt.subplots(1, 3, figsize=(15, 4))\n",
        "\n",
        "# Queue time distribution\n",
        "axes[0].hist(df['queue_time'], bins=30, alpha=0.7, edgecolor='black')\n",
        "axes[0].axvline(120, color='red', linestyle='--', label='Kill threshold')\n",
        "axes[0].set_xlabel('Queue Time (minutes)')\n",
        "axes[0].set_ylabel('Frequency')\n",
        "axes[0].set_title('Queue Time Distribution')\n",
        "axes[0].legend()\n",
        "\n",
        "# Stockout distribution\n",
        "axes[1].hist(df['stockouts'], bins=30, alpha=0.7, edgecolor='black')\n",
        "axes[1].axvline(1, color='red', linestyle='--', label='Kill threshold')\n",
        "axes[1].set_xlabel('Stockouts per 24h')\n",
        "axes[1].set_ylabel('Frequency')\n",
        "axes[1].set_title('Stockout Distribution')\n",
        "axes[1].legend()\n",
        "\n",
        "# Trigger summary\n",
        "trigger_counts = [\n",
        "    df['queue_trigger'].sum(),\n",
        "    df['stockout_trigger'].sum(),\n",
        "    df['any_trigger'].sum()\n",
        "]\n",
        "trigger_labels = ['Queue Time', 'Stockout', 'Any Trigger']\n",
        "axes[2].bar(trigger_labels, trigger_counts, alpha=0.7, edgecolor='black')\n",
        "axes[2].set_ylabel('Number of Triggers')\n",
        "axes[2].set_title(f'Kill Criteria Triggers (n={N_SIMULATIONS})')\n",
        "axes[2].axhline(N_SIMULATIONS * 0.05, color='orange', linestyle='--', label='5% threshold')\n",
        "axes[2].legend()\n",
        "\n",
        "plt.tight_layout()\n",
        "plt.show()\n",
        "\n",
        "print(f\"\\n** Interpretation **\")\n",
        "print(f\"In {N_SIMULATIONS} simulated 24h periods with a {COHORT_SIZE*100}% coverage:\")\n",
        "print(f\"- Kill criteria would trigger {df['any_trigger'].mean()*100:.1f}% of the time\")\n",
        "print(f\"- This suggests the authority window provides {(1-df['any_trigger'].mean())*100:.1f}% safe operation probability\")\n",
        "print(f\"- Estimated incident prevention: {df['any_trigger'].sum()} potential incidents caught early\")"
      ]
    }
  ],
  "metadata": {
    "kernelspec": {
      "display_name": "Python 3",
      "language": "python",
      "name": "python3"
    },
    "language_info": {
      "name": "python",
      "version": "3.11.0"
    }
  },
  "nbformat": 4,
  "nbformat_minor": 5
}