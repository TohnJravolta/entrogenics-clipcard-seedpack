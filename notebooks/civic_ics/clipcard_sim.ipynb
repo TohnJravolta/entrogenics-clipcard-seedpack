{
 "cells": [
  {
   "cell_type": "markdown",
   "metadata": {},
   "source": [
    "# ClipCard Simulation: Civic/ICS",
    "\n",
    "**Purpose:** This notebook runs a Monte Carlo simulation to estimate the effectiveness of ClipCard parameters for Civic/ICS operations, such as managing a cooling center.",
    "\n",
    "It simulates operational periods and checks if randomly generated metrics (like `median_queue_time_minutes` or `water_stockout`) would trigger the `kill_criteria` defined in a ClipCard. This helps quantify the risk of resource shortfalls or excessive wait times."
   ]
  },
  {
   "cell_type": "code",
   "execution_count": null,
   "metadata": {},
   "outputs": [],
   "source": [
    "import pandas as pd",
    "import numpy as np",
    "import matplotlib.pyplot as plt",
    "import json",
    "",
    "# Load example ClipCard",
    "try:",
    "    with open('../../examples/ics-test.clipcard.json', 'r') as f:",
    "        example_card = json.load(f)",
    "    print(f\"Loaded example ClipCard: {example_card['id']}\")",
    "except FileNotFoundError:",
    "    print(\"No example ClipCard found. Using synthetic data.\")",
    "    example_card = {",
    "        \"id\": \"SIM-ICS-001\",",
    "        \"kill_criteria\": [",
    "            {\"condition\": \"median_queue_time_minutes > 30\", \"action\": \"Redirect arrivals\"}",
    "            {\"condition\": \"water_stockout == true\", \"action\": \"Request logistics surge\"}",
    "        ]",
    "    }"
   ]
  },
  {
   "cell_type": "markdown",
   "metadata": {},
   "source": [
    "### Simulation Parameters",
    "\n",
    "Configure simulation runs and metric distributions for a cooling center scenario."
   ]
  },
  {
   "cell_type": "code",
   "execution_count": null,
   "metadata": {},
   "outputs": [],
   "source": [
    "# Simulation configuration",
    "N_SIMULATIONS = 1000  # Number of simulated operational periods (e.g., 1-hour blocks)",
    "AVG_ARRIVALS_PER_HOUR = 140 # Average people arriving per hour",
    "STAFF_CAPACITY_PER_HOUR = 150 # How many people can be processed per hour",
    "BASE_STOCKOUT_PROB = 0.05 # 5% base probability of a water stockout due to other issues",
    "",
    "print(f\"Running {N_SIMULATIONS} simulations...\")",
    "print(f\"Average arrivals per hour: {AVG_ARRIVALS_PER_HOUR}\")",
    "print(f\"Staff capacity per hour: {STAFF_CAPACITY_PER_HOUR}\")"
   ]
  },
  {
   "cell_type": "markdown",
   "metadata": {},
   "source": [
    "### Monte Carlo Simulation",
    "\n",
    "Run simulations and track kill criteria triggers. We'll use a simple M/M/1 queueing model approximation for wait times."
   ]
  },
  {
   "cell_type": "code",
   "execution_count": null,
   "metadata": {},
   "outputs": [],
   "source": [
    "results = []",
    "",
    "for i in range(N_SIMULATIONS):",
    "    # Simulate arrivals for the hour (Poisson process)",
    "    arrivals = np.random.poisson(AVG_ARRIVALS_PER_HOUR)",
    "    ",
    "    # Calculate server utilization (rho)",
    "    rho = arrivals / STAFF_CAPACITY_PER_HOUR",
    "    ",
    "    # Calculate median queue time (approximated)",
    "    # For an M/M/1 queue, average wait time W = (rho / (1-rho)) * (1/mu), where mu is service rate",
    "    # We simplify here for the simulation's purpose.",
    "    if rho >= 1:",
    "        # If arrivals exceed capacity, queue time explodes",
    "        median_queue_time = 120 # Cap at 2 hours for simulation purposes",
    "    else:",
    "        # A simplified approximation of queueing time",
    "        median_queue_time = (rho**2 / (1 - rho)) * 60 ",
    "",
    "    # Simulate a water stockout",
    "    water_stockout = np.random.rand() < BASE_STOCKOUT_PROB",
    "    ",
    "    # Check kill criteria",
    "    queue_trigger = median_queue_time > 30",
    "    stockout_trigger = water_stockout == True",
    "    any_trigger = queue_trigger or stockout_trigger",
    "    ",
    "    results.append({",
    "        'sim_id': i,",
    "        'arrivals': arrivals,",
    "        'utilization': rho,",
    "        'median_queue_time': median_queue_time,",
    "        'water_stockout': water_stockout,",
    "        'queue_trigger': queue_trigger,",
    "        'stockout_trigger': stockout_trigger,",
    "        'any_trigger': any_trigger",
    "    })",
    "",
    "df = pd.DataFrame(results)",
    "print(f\"\nSimulation complete!\")",
    "print(f\"Queue time triggers (>30 min): {df['queue_trigger'].sum()} ({df['queue_trigger'].mean()*100:.1f}%)\")",
    "print(f\"Water stockout triggers: {df['stockout_trigger'].sum()} ({df['stockout_trigger'].mean()*100:.1f}%)\")",
    "print(f\"Any trigger: {df['any_trigger'].sum()} ({df['any_trigger'].mean()*100:.1f}%)\")"
   ]
  },
  {
   "cell_type": "markdown",
   "metadata": {},
   "source": [
    "### Visualization",
    "\n",
    "Plot trigger distributions and risk reduction."
   ]
  },
  {
   "cell_type": "code",
   "execution_count": null,
   "metadata": {},
   "outputs": [],
   "source": [
    "fig, axes = plt.subplots(1, 2, figsize=(14, 5))",
    "",
    "# Queue Time Distribution",
    "axes[0].hist(df['median_queue_time'], bins=50, alpha=0.7, edgecolor='black', range=(0, 130))",
    "axes[0].axvline(30, color='red', linestyle='--', label='Kill threshold (>30 min)')",
    "axes[0].set_xlabel('Median Queue Time (minutes)')",
    "axes[0].set_ylabel('Frequency')",
    "axes[0].set_title('Queue Time Distribution')",
    "axes[0].legend()",
    "",
    "# Trigger Summary",
    "trigger_counts = [",
    "    df['queue_trigger'].sum(),",
    "    df['stockout_trigger'].sum(),",
    "    df['any_trigger'].sum()",
    "]
    "trigger_labels = ['Queue Time', 'Stockout', 'Any Trigger']",
    "axes[1].bar(trigger_labels, trigger_counts, alpha=0.7, edgecolor='black')",
    "axes[1].set_ylabel('Number of Triggers')",
    "axes[1].set_title(f'Kill Criteria Triggers (n={N_SIMULATIONS})')",
    "",
    "plt.tight_layout()",
    "plt.show()",
    "",
    "print(f\"\n** Interpretation **\")",
    "print(f\"In {N_SIMULATIONS} simulated hours of operation:\")",
    "print(f\"- The kill criteria would be triggered {df['any_trigger'].mean()*100:.1f}% of the time.\")",
    "print(f\"- This suggests that with an average arrival rate of {AVG_ARRIVALS_PER_HOUR} and capacity of {STAFF_CAPACITY_PER_HOUR}, the operation is unstable.\")",
    "print(f\"- The primary trigger is queue time, indicating that capacity is the main issue.\")"
   ]
  }
 ],
 "metadata": {
  "kernelspec": {
   "display_name": "Python 3",
   "language": "python",
   "name": "python3"
  },
  "language_info": {
   "name": "python",
   "version": "3.11.0"
  }
 },
 "nbformat": 4,
 "nbformat_minor": 4
}