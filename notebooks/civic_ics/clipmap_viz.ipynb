{
 "cells": [
  {
   "cell_type": "markdown",
   "metadata": {},
   "source": [
    "# ClipMap Visualization: Civic/ICS",
    "\n",
    "**Purpose:** This notebook visualizes the aggregated ClipCard data to identify systemic patterns and recurring failure modes for the **Civic/ICS** silo.",
    "\n",
    "It focuses on answering questions like:",
    "- What are the most common types of operational hazards we face?",
    "- Is there a relationship between certain hazards and their outcomes?"
   ]
  },
  {
   "cell_type": "code",
   "execution_count": null,
   "metadata": {},
   "outputs": [],
   "source": [
    "import pandas as pd",
    "import matplotlib.pyplot as plt",
    "import seaborn as sns",
    "",
    "# Load the aggregated ClipCard data",
    "try:",
    "    cards_df = pd.read_csv('../../data/clipmap/cards.csv')",
    "    events_df = pd.read_csv('../../data/clipmap/events.csv')",
    "    # Filter for the correct domain",
    "    ics_cards = cards_df[cards_df['domain'] == 'dfm-civic-ics'].copy()",
    "    # Merge the two dataframes to link hazards with outcomes",
    "    merged_df = pd.merge(ics_cards, events_df, left_on='id', right_on='card_id')",
    "except FileNotFoundError as e:",
    "    print(f'ERROR: {e.filename} not found. Please ensure the data exists.')",
    "    merged_df = pd.DataFrame() # Empty dataframe to prevent further errors"
   ]
  },
  {
   "cell_type": "markdown",
   "metadata": {},
   "source": [
    "### Hazard Frequency",
    "\n",
    "First, let's analyze the types of hazards we are logging. For simplicity, we'll extract keywords from the `telos` (hazard description) field."
   ]
  },
  {
   "cell_type": "code",
   "execution_count": null,
   "metadata": {},
   "outputs": [],
   "source": [
    "if not merged_df.empty:",
    "    # Extract keywords from the hazard description for ICS",
    "    merged_df['hazard_keywords'] = merged_df['telos'].str.findall(r'(queueing|heat|staff|logistics|resource|crowding)')",
    "    merged_df['hazard_keywords'] = merged_df['hazard_keywords'].apply(lambda x: x[0] if isinstance(x, list) and len(x) > 0 else 'other')",
    "",
    "    plt.figure(figsize=(10, 6))",
    "    sns.countplot(y='hazard_keywords', data=merged_df, order=merged_df['hazard_keywords'].value_counts().index)",
    "    plt.title('Frequency of Hazard Types in Civic/ICS')",
    "    plt.xlabel('Count')",
    "    plt.ylabel('Hazard Keyword')",
    "    plt.grid(axis='x', linestyle='--', alpha=0.7)",
    "    plt.show()",
    "else:",
    "    print('Data is empty. Cannot plot hazard frequency.')"
   ]
  },
  {
   "cell_type": "markdown",
   "metadata": {},
   "source": [
    "### Hazard-Outcome Heatmap",
    "\n",
    "This heatmap shows the relationship between hazard types and their final outcomes."
   ]
  },
  {
   "cell_type": "code",
   "execution_count": null,
   "metadata": {},
   "outputs": [],
   "source": [
    "if not merged_df.empty:",
    "    # Create a contingency table (crosstab) of hazards and outcomes",
    "    contingency_table = pd.crosstab(merged_df['hazard_keywords'], merged_df['outcome'])",
    "",
    "    plt.figure(figsize=(12, 7))",
    "    sns.heatmap(contingency_table, annot=True, cmap='YlGnBu', fmt='d')",
    "    plt.title('Heatmap of Hazard Keywords vs. Outcomes')",
    "    plt.xlabel('Outcome')",
    "    plt.ylabel('Hazard Keyword')",
    "    plt.show()",
    "else:",
    "    print('Data is empty. Cannot plot heatmap.')"
   ]
  }
 ],
 "metadata": {
  "kernelspec": {
   "display_name": "Python 3",
   "language": "python",
   "name": "python3"
  },
  "language_info": {
   "name": "python",
   "version": "3.11.0"
  }
 },
 "nbformat": 4,
 "nbformat_minor": 4
}